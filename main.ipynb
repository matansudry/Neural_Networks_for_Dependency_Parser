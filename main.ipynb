{
 "cells": [
  {
   "cell_type": "code",
   "execution_count": 1,
   "metadata": {},
   "outputs": [
    {
     "name": "stdout",
     "output_type": "stream",
     "text": [
      "cuda\n"
     ]
    }
   ],
   "source": [
    "import os\n",
    "import sys\n",
    "import time\n",
    "\n",
    "from tqdm import tqdm\n",
    "\n",
    "import numpy as np\n",
    "import pandas as pd\n",
    "import matplotlib.pyplot as plt\n",
    "\n",
    "import torch\n",
    "import torch.nn as nn\n",
    "import torch.nn.functional as F\n",
    "\n",
    "from src import utils\n",
    "from src import bilstm\n",
    "import src.dataset as dset\n",
    "import src.pytorch_utils as ptu\n",
    "import src.chu_liu_edmonds as chu\n",
    "\n",
    "import warnings\n",
    "warnings.filterwarnings('ignore')\n",
    "\n",
    "seed = 42\n",
    "torch.manual_seed(seed)\n",
    "torch.backends.cudnn.deterministic = True\n",
    "torch.backends.cudnn.benchmark = False\n",
    "\n",
    "np.random.seed(seed)\n",
    "\n",
    "device = torch.device(\"cuda\" if torch.cuda.is_available() else \"cpu\")\n",
    "print(device)\n",
    "models_path = 'models'"
   ]
  },
  {
   "cell_type": "code",
   "execution_count": 2,
   "metadata": {},
   "outputs": [
    {
     "name": "stderr",
     "output_type": "stream",
     "text": [
      "100%|██████████| 125430/125430 [00:17<00:00, 7273.76it/s]\n",
      "100%|██████████| 25325/25325 [00:03<00:00, 7363.32it/s]\n"
     ]
    }
   ],
   "source": [
    "train_dataset = dset.DataSet('data/train.labeled', tqdm_bar=True)\n",
    "test_dataset = dset.DataSet('data/test.labeled', train_dataset=train_dataset, tqdm_bar=True)\n",
    "# comp_dataset = dset.DataSet('data/comp.unlabeled', train_dataset=train_dataset, tagged=False, tqdm_bar=True)"
   ]
  },
  {
   "cell_type": "code",
   "execution_count": 3,
   "metadata": {},
   "outputs": [
    {
     "name": "stdout",
     "output_type": "stream",
     "text": [
      "model version: V1_2.0\n",
      "Number of parameters 2097001 trainable 2097001\n"
     ]
    }
   ],
   "source": [
    "version = 'V1_2.0'\n",
    "save = True\n",
    "\n",
    "model = bilstm.BiLSTM(train_dataset=train_dataset,\n",
    "                      word_embed_dim=100,\n",
    "                      tag_embed_dim=25,\n",
    "                      hidden_dim=125,\n",
    "                      num_layers=2,\n",
    "                      bias=True,\n",
    "                      mlp1_dim=100,\n",
    "                      mlp2_dim=1,\n",
    "                      p_dropout=0.1,\n",
    "                      word_dropout=0.25)\n",
    "\n",
    "checkpoint = ptu.Checkpoint(models_path=models_path,\n",
    "                            version=version,\n",
    "                            model=model,\n",
    "                            score=lambda y_true, y_pred: (np.array(y_true) == np.array(y_pred)).mean(),\n",
    "                            loss_decision_func=utils.loss_decision_func,\n",
    "                            out_decision_func=lambda y_pred, flat_y_pred, mask, padding: flat_y_pred.argmax(axis=1),\n",
    "#                             out_decision_func=test_chu_liu_edmonds,\n",
    "                            seed=42,\n",
    "                            optimizer=torch.optim.Adam,\n",
    "                            criterion=nn.NLLLoss,\n",
    "                            save=save,\n",
    "                            prints=True,\n",
    "                           )"
   ]
  },
  {
   "cell_type": "code",
   "execution_count": null,
   "metadata": {},
   "outputs": [
    {
     "name": "stdout",
     "output_type": "stream",
     "text": [
      "epoch   1/  5 | train_loss 1.09143 | val_loss 1.10195 | train_score 0.67990 | val_score 0.67782 | train_time   0.60 min\n",
      "epoch   2/  5 | train_loss 0.71656 | val_loss 0.74116 | train_score 0.78503 | val_score 0.77821 | train_time   1.20 min\n",
      "epoch   3/  5 | train_loss 0.57078 | val_loss 0.62577 | train_score 0.83035 | val_score 0.81369 | train_time   1.81 min\n",
      "epoch   4/  5 | train_loss 0.48826 | val_loss 0.57920 | train_score 0.85198 | val_score 0.82590 | train_time   2.42 min\n",
      "epoch   5/  5 | train_loss 0.43209 | val_loss 0.55634 | train_score 0.86679 | val_score 0.83404 | train_time   3.06 min\n",
      "epoch   6/100 | train_loss 0.40247 | val_loss 0.53906 | train_score 0.87791 | val_score 0.83984 | train_time   3.63 min\n",
      "epoch   7/100 | train_loss 0.39269 | val_loss 0.53840 | train_score 0.88097 | val_score 0.84070 | train_time   4.20 min\n",
      "epoch   8/100 | train_loss 0.38523 | val_loss 0.54106 | train_score 0.88256 | val_score 0.84099 | train_time   4.77 min\n",
      "epoch   9/100 | train_loss 0.37867 | val_loss 0.54361 | train_score 0.88470 | val_score 0.84169 | train_time   5.34 min\n",
      "epoch  10/100 | train_loss 0.37180 | val_loss 0.54584 | train_score 0.88646 | val_score 0.84144 | train_time   5.91 min\n",
      "epoch  11/100 | train_loss 0.36495 | val_loss 0.54787 | train_score 0.88882 | val_score 0.84214 | train_time   6.48 min\n",
      "epoch  12/100 | train_loss 0.36138 | val_loss 0.55401 | train_score 0.88980 | val_score 0.84197 | train_time   7.05 min\n",
      "epoch  13/100 | train_loss 0.35458 | val_loss 0.55825 | train_score 0.89194 | val_score 0.84148 | train_time   7.61 min\n",
      "epoch  14/100 | train_loss 0.35115 | val_loss 0.56606 | train_score 0.89271 | val_score 0.84016 | train_time   8.18 min\n",
      "epoch  15/100 | train_loss 0.34482 | val_loss 0.57076 | train_score 0.89498 | val_score 0.84033 | train_time   8.75 min\n",
      "epoch  16/100 | train_loss 0.34155 | val_loss 0.58050 | train_score 0.89588 | val_score 0.83819 | train_time   9.32 min\n",
      "epoch  17/100 | train_loss 0.33644 | val_loss 0.58570 | train_score 0.89704 | val_score 0.83774 | train_time   9.88 min\n",
      "epoch  18/100 | train_loss 0.33139 | val_loss 0.59089 | train_score 0.89858 | val_score 0.83790 | train_time  10.45 min\n",
      "epoch  19/100 | train_loss 0.32813 | val_loss 0.60191 | train_score 0.89966 | val_score 0.83634 | train_time  11.01 min\n",
      "epoch  20/100 | train_loss 0.32508 | val_loss 0.60819 | train_score 0.90080 | val_score 0.83712 | train_time  11.58 min\n",
      "epoch  21/100 | train_loss 0.32356 | val_loss 0.62102 | train_score 0.90163 | val_score 0.83568 | train_time  12.16 min\n",
      "epoch  22/100 | train_loss 0.31982 | val_loss 0.62936 | train_score 0.90335 | val_score 0.83515 | train_time  12.74 min\n",
      "epoch  23/100 | train_loss 0.31525 | val_loss 0.63704 | train_score 0.90474 | val_score 0.83663 | train_time  13.32 min\n",
      "epoch  24/100 | train_loss 0.31889 | val_loss 0.65461 | train_score 0.90458 | val_score 0.83552 | train_time  13.89 min\n",
      "epoch  25/100 | train_loss 0.31841 | val_loss 0.66396 | train_score 0.90474 | val_score 0.83375 | train_time  14.45 min\n",
      "epoch  26/100 | train_loss 0.31410 | val_loss 0.67322 | train_score 0.90732 | val_score 0.83605 | train_time  15.02 min\n",
      "epoch  27/100 | train_loss 0.30999 | val_loss 0.68393 | train_score 0.90960 | val_score 0.83622 | train_time  15.59 min\n",
      "epoch  28/100 | train_loss 0.30780 | val_loss 0.69686 | train_score 0.91133 | val_score 0.83720 | train_time  16.15 min\n",
      "epoch  29/100 | train_loss 0.30540 | val_loss 0.69603 | train_score 0.91192 | val_score 0.83753 | train_time  16.72 min\n",
      "epoch  30/100 | train_loss 0.30160 | val_loss 0.71328 | train_score 0.91371 | val_score 0.83441 | train_time  17.28 min\n",
      "epoch  31/100 | train_loss 0.30685 | val_loss 0.73014 | train_score 0.91224 | val_score 0.83276 | train_time  17.85 min\n",
      "epoch  32/100 | train_loss 0.30610 | val_loss 0.74647 | train_score 0.91259 | val_score 0.83067 | train_time  18.41 min\n",
      "epoch  33/100 | train_loss 0.29982 | val_loss 0.73791 | train_score 0.91410 | val_score 0.83096 | train_time  18.98 min\n"
     ]
    }
   ],
   "source": [
    "hyperparam_list = [\n",
    "    {'train_epochs': 5, 'batch_size': 16, 'optimizer_params': {'lr': 1e-3, }, 'lr_decay': 0.0},\n",
    "    {'train_epochs': 95, 'batch_size': 64, 'optimizer_params': {'lr': 4e-4}, 'lr_decay': 0.0},\n",
    "#     {'train_epochs': 5, 'batch_size': 64, 'optimizer_params': {'lr': 1e-4}, 'lr_decay': 0.0},\n",
    "#     {'train_epochs': 35, 'batch_size': 64, 'optimizer_params': {'lr': 1e-5}, 'lr_decay': 0.0},\n",
    "#     {'train_epochs': 5, 'batch_size': 128, 'optimizer_params': {}, 'lr_decay': 0.07},\n",
    "#     {'train_epochs': 50, 'batch_size': 32, 'optimizer_params': {'lr': 4e-4}, 'lr_decay': 0.07},\n",
    "#     {'train_epochs': 50, 'batch_size': 2048, 'optimizer_params': {}, 'lr_decay': 0.07},\n",
    "#     {'train_epochs': 5, 'batch_size': 1024, 'optimizer_params': {'weight_decay': 1e-6}, 'lr_decay': 0.07},\n",
    "#     {'train_epochs': 50, 'batch_size': 2048, 'optimizer_params': {'weight_decay': 1e-6}, 'lr_decay': 0.07},\n",
    "#     {'train_epochs': 50, 'batch_size': 5000, 'optimizer_params': {'weight_decay': 0}, 'lr_decay': 0.05},\n",
    "]\n",
    "\n",
    "for session in hyperparam_list:\n",
    "    checkpoint.train(device=device,\n",
    "                     train_dataset=train_dataset.dataset,\n",
    "                     val_dataset=test_dataset.dataset,\n",
    "                     prints=True,\n",
    "                     epochs_save=5,\n",
    "                     save=save,\n",
    "                     **session)"
   ]
  },
  {
   "cell_type": "code",
   "execution_count": null,
   "metadata": {},
   "outputs": [],
   "source": [
    "# load = ptu.load_model(version=version, models_path=models_path, epoch=-1, seed=42)\n",
    "loss, score, y_pred, y_true = checkpoint.predict(test_dataset.dataset,\n",
    "                                                 batch_size=32,\n",
    "                                                 device=device,\n",
    "                                                 results=False,\n",
    "                                                 decision_func=chu.test_chu_liu_edmonds)\n",
    "print(f'chu_liu_edmonds_UAS: {score}')"
   ]
  },
  {
   "cell_type": "code",
   "execution_count": 6,
   "metadata": {},
   "outputs": [
    {
     "name": "stdout",
     "output_type": "stream",
     "text": [
      "words torch.Size([1, 250])\n",
      "tags torch.Size([1, 250])\n",
      "lens 1\n",
      "word_embeds torch.Size([1, 250, 100])\n",
      "tag_embeds torch.Size([1, 250, 25])\n",
      "cat torch.Size([1, 250, 125])\n",
      "pad_packed_sequence torch.Size([1, 250, 250])\n",
      "mlp1 torch.Size([1, 250, 100])\n",
      "mlp2 torch.Size([1, 250, 100])\n",
      "unsqueeze_x1 torch.Size([1, 1, 250, 100])\n",
      "unsqueeze_x2 torch.Size([1, 250, 1, 100])\n",
      "outer_add_x1_x2 torch.Size([1, 250, 250, 100])\n",
      "del ROOT torch.Size([1, 249, 250, 100])\n",
      "tanh torch.Size([1, 249, 250, 100])\n",
      "mlp_out torch.Size([1, 249, 250, 1])\n",
      "log_softmax torch.Size([1, 249, 250, 1])\n",
      "squeeze torch.Size([1, 249, 250])\n",
      "out torch.Size([1, 249, 250])\n",
      "mask torch.Size([1, 249])\n",
      "y torch.Size([1, 249])\n",
      "CPU times: user 46.7 ms, sys: 12.2 ms, total: 58.8 ms\n",
      "Wall time: 55.3 ms\n"
     ]
    }
   ],
   "source": [
    "# %%time\n",
    "# checkpoint.model = checkpoint.model.to(device)\n",
    "# checkpoint.model.train()\n",
    "# batch_size = 1\n",
    "\n",
    "# loader = torch.utils.data.DataLoader(dataset=train_dataset.dataset, batch_size=batch_size, shuffle=True)\n",
    "# for batch in loader:\n",
    "#     loss, flat_y, flat_out, mask, out, y = utils.loss_decision_func(checkpoint, device, batch, prints=True)\n",
    "#     break\n",
    "# torch.cuda.empty_cache()"
   ]
  },
  {
   "cell_type": "code",
   "execution_count": null,
   "metadata": {},
   "outputs": [],
   "source": [
    "# import hyperopt as hpo\n",
    "\n",
    "# def Counter():\n",
    "#     for i in range(999999999999):\n",
    "#         yield i\n",
    "\n",
    "# init_space = {\n",
    "    \n",
    "# }\n",
    "\n",
    "# session_space = {\n",
    "    \n",
    "# }\n",
    "\n",
    "# def init_objective(space, save=False):\n",
    "#     score = 0.0\n",
    "#     return - score\n",
    "\n",
    "# def session_objective(space, save=False):\n",
    "#     score = 0.0\n",
    "#     return - score\n",
    "\n",
    "# _ = hpo.fmin()"
   ]
  },
  {
   "cell_type": "code",
   "execution_count": null,
   "metadata": {},
   "outputs": [],
   "source": []
  },
  {
   "cell_type": "code",
   "execution_count": null,
   "metadata": {},
   "outputs": [],
   "source": []
  },
  {
   "cell_type": "code",
   "execution_count": null,
   "metadata": {},
   "outputs": [],
   "source": []
  },
  {
   "cell_type": "code",
   "execution_count": null,
   "metadata": {},
   "outputs": [],
   "source": []
  }
 ],
 "metadata": {
  "kernelspec": {
   "display_name": "nlp_hw2",
   "language": "python",
   "name": "nlp_hw2"
  },
  "language_info": {
   "codemirror_mode": {
    "name": "ipython",
    "version": 3
   },
   "file_extension": ".py",
   "mimetype": "text/x-python",
   "name": "python",
   "nbconvert_exporter": "python",
   "pygments_lexer": "ipython3",
   "version": "3.7.7"
  }
 },
 "nbformat": 4,
 "nbformat_minor": 4
}
