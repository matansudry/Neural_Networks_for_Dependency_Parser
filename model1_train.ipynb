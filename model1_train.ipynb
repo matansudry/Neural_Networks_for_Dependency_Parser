{
 "cells": [
  {
   "cell_type": "code",
   "execution_count": 1,
   "metadata": {},
   "outputs": [
    {
     "name": "stdout",
     "output_type": "stream",
     "text": [
      "cuda\n"
     ]
    }
   ],
   "source": [
    "import os\n",
    "import sys\n",
    "import time\n",
    "\n",
    "from tqdm import tqdm\n",
    "\n",
    "import numpy as np\n",
    "import pandas as pd\n",
    "import matplotlib.pyplot as plt\n",
    "\n",
    "import torch\n",
    "import torch.nn as nn\n",
    "import torch.nn.functional as F\n",
    "\n",
    "from src import utils\n",
    "from src import bilstm\n",
    "import src.dataset as dset\n",
    "import src.pytorch_utils as ptu\n",
    "import src.chu_liu_edmonds as chu\n",
    "\n",
    "import warnings\n",
    "warnings.filterwarnings('ignore')\n",
    "\n",
    "seed = 42\n",
    "torch.manual_seed(seed)\n",
    "torch.backends.cudnn.deterministic = True\n",
    "torch.backends.cudnn.benchmark = False\n",
    "\n",
    "np.random.seed(seed)\n",
    "\n",
    "device = torch.device(\"cuda\" if torch.cuda.is_available() else \"cpu\")\n",
    "print(device)\n",
    "models_path = 'models'"
   ]
  },
  {
   "cell_type": "code",
   "execution_count": 2,
   "metadata": {},
   "outputs": [
    {
     "name": "stderr",
     "output_type": "stream",
     "text": [
      "100%|██████████| 125430/125430 [00:17<00:00, 7107.88it/s]\n",
      "100%|██████████| 25325/25325 [00:03<00:00, 6968.51it/s]\n",
      "100%|██████████| 24744/24744 [00:03<00:00, 7733.28it/s]\n"
     ]
    }
   ],
   "source": [
    "train_dataset = dset.DataSet('data/train.labeled', tqdm_bar=True)\n",
    "test_dataset = dset.DataSet('data/test.labeled', train_dataset=train_dataset, tqdm_bar=True)\n",
    "comp_dataset = dset.DataSet('data/comp.unlabeled', train_dataset=train_dataset, tagged=False, tqdm_bar=True)"
   ]
  },
  {
   "cell_type": "code",
   "execution_count": 3,
   "metadata": {},
   "outputs": [
    {
     "name": "stdout",
     "output_type": "stream",
     "text": [
      "model version: V1_final\n",
      "Number of parameters 2097001 trainable 2097001\n"
     ]
    }
   ],
   "source": [
    "version = 'V1_final'\n",
    "save = True\n",
    "\n",
    "model = bilstm.BiLSTM(train_dataset=train_dataset,\n",
    "                      word_embed_dim=100,\n",
    "                      tag_embed_dim=25,\n",
    "                      hidden_dim=125,\n",
    "                      num_layers=2,\n",
    "                      bias=True,\n",
    "                      mlp1_dim=100,\n",
    "                      p_dropout=0.1,\n",
    "                      word_dropout=0.25)\n",
    "\n",
    "checkpoint = ptu.Checkpoint(models_path=models_path,\n",
    "                            version=version,\n",
    "                            model=model,\n",
    "                            score=lambda y_true, y_pred: (np.array(y_true) == np.array(y_pred)).mean(),\n",
    "                            loss_decision_func=utils.loss_decision_func,\n",
    "                            out_decision_func=lambda y_pred, flat_y_pred, mask, padding: flat_y_pred.argmax(axis=1),\n",
    "                            seed=42,\n",
    "                            optimizer=torch.optim.Adam,\n",
    "                            criterion=nn.NLLLoss,\n",
    "                            save=save,\n",
    "                            prints=True)"
   ]
  },
  {
   "cell_type": "code",
   "execution_count": 6,
   "metadata": {},
   "outputs": [
    {
     "name": "stdout",
     "output_type": "stream",
     "text": [
      "epoch   1/  5 | train_loss 1.09143 | val_loss 1.10195 | train_score 0.67990 | val_score 0.67782 | train_time   0.60 min\n",
      "epoch   2/  5 | train_loss 0.71656 | val_loss 0.74116 | train_score 0.78503 | val_score 0.77821 | train_time   1.20 min\n",
      "epoch   3/  5 | train_loss 0.57078 | val_loss 0.62577 | train_score 0.83035 | val_score 0.81369 | train_time   1.81 min\n",
      "epoch   4/  5 | train_loss 0.48826 | val_loss 0.57920 | train_score 0.85198 | val_score 0.82590 | train_time   2.42 min\n",
      "epoch   5/  5 | train_loss 0.43209 | val_loss 0.55634 | train_score 0.86679 | val_score 0.83404 | train_time   3.02 min\n",
      "epoch   6/ 10 | train_loss 0.40247 | val_loss 0.53906 | train_score 0.87791 | val_score 0.83984 | train_time   3.58 min\n",
      "epoch   7/ 10 | train_loss 0.39269 | val_loss 0.53840 | train_score 0.88097 | val_score 0.84070 | train_time   4.16 min\n",
      "epoch   8/ 10 | train_loss 0.38523 | val_loss 0.54106 | train_score 0.88256 | val_score 0.84099 | train_time   4.73 min\n",
      "epoch   9/ 10 | train_loss 0.37867 | val_loss 0.54361 | train_score 0.88470 | val_score 0.84169 | train_time   5.30 min\n",
      "epoch  10/ 10 | train_loss 0.37180 | val_loss 0.54584 | train_score 0.88646 | val_score 0.84144 | train_time   5.87 min\n"
     ]
    }
   ],
   "source": [
    "hyperparam_list = [\n",
    "    {'train_epochs': 5, 'batch_size': 16, 'optimizer_params': {'lr': 1e-3}},\n",
    "    {'train_epochs': 5, 'batch_size': 64, 'optimizer_params': {'lr': 4e-4}},\n",
    "]\n",
    "\n",
    "for session in hyperparam_list:\n",
    "    checkpoint.train(device=device,\n",
    "                     train_dataset=train_dataset.dataset,\n",
    "                     val_dataset=test_dataset.dataset,\n",
    "                     prints=True,\n",
    "                     epochs_save=5,\n",
    "                     save=save,\n",
    "                     **session)"
   ]
  },
  {
   "cell_type": "code",
   "execution_count": null,
   "metadata": {},
   "outputs": [],
   "source": []
  },
  {
   "cell_type": "code",
   "execution_count": null,
   "metadata": {},
   "outputs": [],
   "source": []
  },
  {
   "cell_type": "code",
   "execution_count": null,
   "metadata": {},
   "outputs": [],
   "source": []
  },
  {
   "cell_type": "code",
   "execution_count": null,
   "metadata": {},
   "outputs": [],
   "source": []
  }
 ],
 "metadata": {
  "kernelspec": {
   "display_name": "nlp_hw2",
   "language": "python",
   "name": "nlp_hw2"
  },
  "language_info": {
   "codemirror_mode": {
    "name": "ipython",
    "version": 3
   },
   "file_extension": ".py",
   "mimetype": "text/x-python",
   "name": "python",
   "nbconvert_exporter": "python",
   "pygments_lexer": "ipython3",
   "version": "3.7.7"
  }
 },
 "nbformat": 4,
 "nbformat_minor": 4
}
