{
 "cells": [
  {
   "cell_type": "code",
   "execution_count": 1,
   "metadata": {},
   "outputs": [],
   "source": [
    "import os\n",
    "import sys\n",
    "import time\n",
    "\n",
    "import numpy as np\n",
    "import pandas as pd\n",
    "import matplotlib.pyplot as plt\n",
    "\n",
    "import torch\n",
    "import torch.nn as nn\n",
    "import torch.nn.functional as F\n",
    "\n",
    "import src.pytorch_utils as ptu\n",
    "import src.dataset as dset\n",
    "from src import bilstm\n",
    "from src.chu_liu_edmonds import test_chu_liu_edmonds"
   ]
  },
  {
   "cell_type": "code",
   "execution_count": 4,
   "metadata": {},
   "outputs": [],
   "source": [
    "y_pred = torch.zeros([32, 250, 251], dtype=torch.float)\n",
    "y_pred[:,:,:] = 1\n",
    "mask = torch.zeros([32, 250], dtype=torch.float)\n",
    "mask[0:15,0:250] = 1\n",
    "mask[15:20,0:80] = 1\n",
    "mask[20:32,0:10] = 1\n",
    "padding = -2\n",
    "y_true = torch.zeros([32, 250], dtype=torch.float)\n"
   ]
  },
  {
   "cell_type": "code",
   "execution_count": 5,
   "metadata": {},
   "outputs": [
    {
     "name": "stdout",
     "output_type": "stream",
     "text": [
      "CPU times: user 5.91 s, sys: 219 ms, total: 6.12 s\n",
      "Wall time: 5.69 s\n"
     ]
    }
   ],
   "source": [
    "%%time\n",
    "flat_y_pred = None\n",
    "prediction = test_chu_liu_edmonds(y_pred,flat_y_pred ,mask, padding)"
   ]
  },
  {
   "cell_type": "code",
   "execution_count": 8,
   "metadata": {},
   "outputs": [
    {
     "name": "stdout",
     "output_type": "stream",
     "text": [
      "(4270,)\n",
      "0.0\n"
     ]
    }
   ],
   "source": [
    "print (prediction.shape)\n",
    "print (prediction[250])"
   ]
  },
  {
   "cell_type": "code",
   "execution_count": null,
   "metadata": {},
   "outputs": [],
   "source": [
    "[32, 250, 250]\n",
    "[1,1,2]\n",
    "[1,1,2] = mlp([wordEMB,wordEMB]) "
   ]
  }
 ],
 "metadata": {
  "kernelspec": {
   "display_name": "nlp_hw2",
   "language": "python",
   "name": "nlp_hw2"
  },
  "language_info": {
   "codemirror_mode": {
    "name": "ipython",
    "version": 3
   },
   "file_extension": ".py",
   "mimetype": "text/x-python",
   "name": "python",
   "nbconvert_exporter": "python",
   "pygments_lexer": "ipython3",
   "version": "3.7.7"
  }
 },
 "nbformat": 4,
 "nbformat_minor": 4
}
