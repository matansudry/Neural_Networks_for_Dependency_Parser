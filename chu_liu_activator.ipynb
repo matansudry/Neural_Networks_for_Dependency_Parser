{
 "cells": [
  {
   "cell_type": "code",
   "execution_count": 1,
   "metadata": {},
   "outputs": [],
   "source": [
    "import os\n",
    "import sys\n",
    "import time\n",
    "\n",
    "import numpy as np\n",
    "import pandas as pd\n",
    "import matplotlib.pyplot as plt\n",
    "\n",
    "import torch\n",
    "import torch.nn as nn\n",
    "import torch.nn.functional as F\n",
    "\n",
    "import src.pytorch_utils as ptu\n",
    "import src.dataset as dset\n",
    "from src import bilstm\n",
    "from src.chu_liu_edmonds import test_chu_liu_edmonds"
   ]
  },
  {
   "cell_type": "code",
   "execution_count": 2,
   "metadata": {},
   "outputs": [],
   "source": [
    "y_pred = torch.zeros([32, 250, 250], dtype=torch.float)\n",
    "mask = torch.zeros([32, 250], dtype=torch.float)\n",
    "mask[0:15,0:20] = 1\n",
    "mask[15:20,0:80] = 1\n",
    "mask[20:32,0:10] = 1\n",
    "padding = -2\n",
    "y_true = torch.zeros([32, 250], dtype=torch.float)\n",
    "prediction = test_chu_liu_edmonds(y_pred, mask, padding)"
   ]
  },
  {
   "cell_type": "code",
   "execution_count": 3,
   "metadata": {},
   "outputs": [
    {
     "name": "stdout",
     "output_type": "stream",
     "text": [
      "torch.Size([32, 250])\n",
      "tensor([[-1.,  0.,  0.,  ..., -2., -2., -2.],\n",
      "        [-1.,  0.,  0.,  ..., -2., -2., -2.],\n",
      "        [-1.,  0.,  0.,  ..., -2., -2., -2.],\n",
      "        ...,\n",
      "        [-1.,  0.,  0.,  ..., -2., -2., -2.],\n",
      "        [-1.,  0.,  0.,  ..., -2., -2., -2.],\n",
      "        [-1.,  0.,  0.,  ..., -2., -2., -2.]])\n"
     ]
    }
   ],
   "source": [
    "print (prediction.shape)\n",
    "print (prediction)"
   ]
  }
 ],
 "metadata": {
  "kernelspec": {
   "display_name": "nlp_hw2",
   "language": "python",
   "name": "nlp_hw2"
  },
  "language_info": {
   "codemirror_mode": {
    "name": "ipython",
    "version": 3
   },
   "file_extension": ".py",
   "mimetype": "text/x-python",
   "name": "python",
   "nbconvert_exporter": "python",
   "pygments_lexer": "ipython3",
   "version": "3.7.7"
  }
 },
 "nbformat": 4,
 "nbformat_minor": 4
}
