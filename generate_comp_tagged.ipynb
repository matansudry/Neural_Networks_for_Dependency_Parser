{
 "cells": [
  {
   "cell_type": "code",
   "execution_count": 1,
   "metadata": {},
   "outputs": [
    {
     "name": "stdout",
     "output_type": "stream",
     "text": [
      "cpu\n"
     ]
    }
   ],
   "source": [
    "import os\n",
    "import sys\n",
    "import time\n",
    "import math\n",
    "\n",
    "import numpy as np\n",
    "import pandas as pd\n",
    "import matplotlib.pyplot as plt\n",
    "\n",
    "import torch\n",
    "import torch.nn as nn\n",
    "import torch.nn.functional as F\n",
    "\n",
    "from src import utils\n",
    "from src import bilstm\n",
    "import src.dataset as dset\n",
    "import src.pytorch_utils as ptu\n",
    "import src.chu_liu_edmonds as chu\n",
    "\n",
    "import warnings\n",
    "warnings.filterwarnings('ignore')\n",
    "\n",
    "seed = 42\n",
    "np.random.seed(seed)\n",
    "torch.manual_seed(seed)\n",
    "torch.backends.cudnn.deterministic = True\n",
    "torch.backends.cudnn.benchmark = False\n",
    "\n",
    "# device = torch.device(\"cpu\")\n",
    "device = torch.device(\"cuda\" if torch.cuda.is_available() else \"cpu\")\n",
    "print(device)\n",
    "versions_dir = 'models'"
   ]
  },
  {
   "cell_type": "code",
   "execution_count": 2,
   "metadata": {},
   "outputs": [],
   "source": [
    "def loss_decision_func(model, device, batch, prints=False):\n",
    "    words, tags, lens, y = batch\n",
    "    out = model.forward(words.to(device), tags.to(device), lens, device, prints=prints)\n",
    "    print('out', out.shape) if prints else None\n",
    "    mask = (y > model.y_pad).int()\n",
    "    print('mask', mask.shape) if prints else None\n",
    "    print('y', y.shape) if prints else None\n",
    "\n",
    "    flat_out = out[mask == 1.]\n",
    "    flat_y = y[mask == 1.]\n",
    "\n",
    "    return flat_y, flat_out, mask, out, y"
   ]
  },
  {
   "cell_type": "code",
   "execution_count": 3,
   "metadata": {},
   "outputs": [],
   "source": [
    "def predict(model, dataset, batch_size, device, decision_func=None):\n",
    "    model = model.to(device)\n",
    "    loader = torch.utils.data.DataLoader(dataset=dataset, batch_size=batch_size, shuffle=False)\n",
    "    model = model.eval()\n",
    "    y_pred = np.array([])\n",
    "    y_true = np.array([])\n",
    "\n",
    "    with torch.no_grad():\n",
    "        for batch in loader:\n",
    "            flat_y, flat_out, mask, out, y = loss_decision_func(model, device, batch)\n",
    "\n",
    "            y_pred = np.append(y_pred, decision_func(out.detach().cpu(), flat_out.detach().cpu().numpy(), mask, model.y_pad))\n",
    "            y_true = np.append(y_true, flat_y.detach().cpu().numpy())\n",
    "    return y_pred, y_true"
   ]
  },
  {
   "cell_type": "code",
   "execution_count": 4,
   "metadata": {},
   "outputs": [],
   "source": [
    "train_dataset_glove = dset.DataSet('data/train.labeled', use_glove=True)\n",
    "test_dataset_glove = dset.DataSet('data/test.labeled', train_dataset=train_dataset_glove, use_glove=True)\n",
    "comp_dataset_glove = dset.DataSet('data/comp.unlabeled', train_dataset=train_dataset_glove, tagged=False, use_glove=True)\n",
    "model_m2 = torch.load('model_m2_final.pth')"
   ]
  },
  {
   "cell_type": "code",
   "execution_count": 5,
   "metadata": {},
   "outputs": [],
   "source": [
    "train_dataset_no_glove = dset.DataSet('data/train.labeled')\n",
    "test_dataset_no_glove = dset.DataSet('data/test.labeled', train_dataset=train_dataset_no_glove)\n",
    "comp_dataset_no_glove = dset.DataSet('data/comp.unlabeled', train_dataset=train_dataset_no_glove, tagged=False)\n",
    "model_m1 = torch.load('model_m1_final.pth')"
   ]
  },
  {
   "cell_type": "code",
   "execution_count": 6,
   "metadata": {},
   "outputs": [],
   "source": [
    "test_pred_m1, _ = predict(model_m1,\n",
    "                          dataset=test_dataset_no_glove.dataset(train=False),\n",
    "                          batch_size=32,\n",
    "                          device=device,\n",
    "                          decision_func=chu.test_chu_liu_edmonds)\n",
    "\n",
    "comp_pred_m1, _ = predict(model_m1,\n",
    "                          dataset=comp_dataset_no_glove.dataset(train=False),\n",
    "                          batch_size=32,\n",
    "                          device=device,\n",
    "                          decision_func=chu.test_chu_liu_edmonds)"
   ]
  },
  {
   "cell_type": "code",
   "execution_count": 7,
   "metadata": {},
   "outputs": [],
   "source": [
    "test_pred_m2, _ = predict(model_m2,\n",
    "                          dataset=test_dataset_glove.dataset(train=False),\n",
    "                          batch_size=32,\n",
    "                          device=device,\n",
    "                          decision_func=chu.test_chu_liu_edmonds)\n",
    "\n",
    "comp_pred_m2, _ = predict(model_m2,\n",
    "                          dataset=comp_dataset_glove.dataset(train=False),\n",
    "                          batch_size=32,\n",
    "                          device=device,\n",
    "                          decision_func=chu.test_chu_liu_edmonds)"
   ]
  },
  {
   "cell_type": "code",
   "execution_count": 8,
   "metadata": {},
   "outputs": [
    {
     "name": "stdout",
     "output_type": "stream",
     "text": [
      "m1_UAS 0.8928263103802672\n",
      "m2_UAS 0.9151490236382323\n"
     ]
    }
   ],
   "source": [
    "test_dataset_no_glove.insert_predictions(preds=test_pred_m1, name='test_m1')\n",
    "print('m1_test_UAS:', test_dataset_no_glove.get_UAS())\n",
    "\n",
    "test_dataset_glove.insert_predictions(preds=test_pred_m2, name='test_m2')\n",
    "print('m2_test_UAS:', test_dataset_glove.get_UAS())"
   ]
  },
  {
   "cell_type": "code",
   "execution_count": 9,
   "metadata": {},
   "outputs": [],
   "source": [
    "comp_dataset_no_glove.insert_predictions(preds=comp_pred_m1, name='comp_m1')\n",
    "comp_dataset_glove.insert_predictions(preds=comp_pred_m2, name='comp_m2')"
   ]
  },
  {
   "cell_type": "code",
   "execution_count": null,
   "metadata": {},
   "outputs": [],
   "source": []
  }
 ],
 "metadata": {
  "kernelspec": {
   "display_name": "nlp_hw2",
   "language": "python",
   "name": "nlp_hw2"
  },
  "language_info": {
   "codemirror_mode": {
    "name": "ipython",
    "version": 3
   },
   "file_extension": ".py",
   "mimetype": "text/x-python",
   "name": "python",
   "nbconvert_exporter": "python",
   "pygments_lexer": "ipython3",
   "version": "3.7.7"
  }
 },
 "nbformat": 4,
 "nbformat_minor": 4
}
