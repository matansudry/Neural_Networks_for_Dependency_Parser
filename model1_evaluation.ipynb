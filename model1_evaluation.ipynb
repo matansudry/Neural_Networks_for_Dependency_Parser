{
 "cells": [
  {
   "cell_type": "code",
   "execution_count": 1,
   "metadata": {},
   "outputs": [
    {
     "name": "stdout",
     "output_type": "stream",
     "text": [
      "cpu\n"
     ]
    }
   ],
   "source": [
    "import os\n",
    "import sys\n",
    "import time\n",
    "\n",
    "from tqdm import tqdm\n",
    "\n",
    "import numpy as np\n",
    "import pandas as pd\n",
    "import matplotlib.pyplot as plt\n",
    "\n",
    "import torch\n",
    "import torch.nn as nn\n",
    "import torch.nn.functional as F\n",
    "\n",
    "from src import utils\n",
    "from src import bilstm\n",
    "import src.dataset as dset\n",
    "import src.pytorch_utils as ptu\n",
    "import src.chu_liu_edmonds as chu\n",
    "\n",
    "import warnings\n",
    "warnings.filterwarnings('ignore')\n",
    "\n",
    "seed = 42\n",
    "torch.manual_seed(seed)\n",
    "torch.backends.cudnn.deterministic = True\n",
    "torch.backends.cudnn.benchmark = False\n",
    "\n",
    "np.random.seed(seed)\n",
    "\n",
    "# device = torch.device(\"cuda\" if torch.cuda.is_available() else \"cpu\")\n",
    "device = torch.device(\"cpu\")\n",
    "print(device)\n",
    "models_path = 'models'"
   ]
  },
  {
   "cell_type": "code",
   "execution_count": 2,
   "metadata": {},
   "outputs": [
    {
     "name": "stderr",
     "output_type": "stream",
     "text": [
      "100%|██████████| 125430/125430 [00:17<00:00, 7229.06it/s]\n",
      "100%|██████████| 25325/25325 [00:03<00:00, 7285.26it/s]\n",
      "100%|██████████| 24744/24744 [00:03<00:00, 8086.90it/s]\n"
     ]
    }
   ],
   "source": [
    "train_dataset = dset.DataSet('data/train.labeled', tqdm_bar=True)\n",
    "test_dataset = dset.DataSet('data/test.labeled', train_dataset=train_dataset, tqdm_bar=True)\n",
    "comp_dataset = dset.DataSet('data/comp.unlabeled', train_dataset=train_dataset, tagged=False, tqdm_bar=True)"
   ]
  },
  {
   "cell_type": "code",
   "execution_count": 3,
   "metadata": {},
   "outputs": [
    {
     "name": "stdout",
     "output_type": "stream",
     "text": [
      "model version: V1_final\n",
      "Number of parameters 2097001 trainable 2097001\n",
      "epochs: 9\n",
      "train_time: 5.298\n",
      "\n",
      "last train_loss: 0.37867\n",
      "last val_loss: 0.54361\n",
      "last train_score: 0.88470\n",
      "last val_score: 0.84169\n",
      "best val_score: 0.84169 at epoch 9\n"
     ]
    },
    {
     "data": {
      "text/html": [
       "<div>\n",
       "<style scoped>\n",
       "    .dataframe tbody tr th:only-of-type {\n",
       "        vertical-align: middle;\n",
       "    }\n",
       "\n",
       "    .dataframe tbody tr th {\n",
       "        vertical-align: top;\n",
       "    }\n",
       "\n",
       "    .dataframe thead th {\n",
       "        text-align: right;\n",
       "    }\n",
       "</style>\n",
       "<table border=\"1\" class=\"dataframe\">\n",
       "  <thead>\n",
       "    <tr style=\"text-align: right;\">\n",
       "      <th></th>\n",
       "      <th>train_time</th>\n",
       "      <th>timestamp</th>\n",
       "      <th>train_loss</th>\n",
       "      <th>val_loss</th>\n",
       "      <th>train_score</th>\n",
       "      <th>val_score</th>\n",
       "      <th>batch_size</th>\n",
       "      <th>best</th>\n",
       "      <th>amsgrad</th>\n",
       "      <th>betas</th>\n",
       "      <th>eps</th>\n",
       "      <th>lr</th>\n",
       "      <th>weight_decay</th>\n",
       "    </tr>\n",
       "  </thead>\n",
       "  <tbody>\n",
       "    <tr>\n",
       "      <th>1</th>\n",
       "      <td>0.595500</td>\n",
       "      <td>10:52:47 20-06-2020</td>\n",
       "      <td>1.091428</td>\n",
       "      <td>1.101946</td>\n",
       "      <td>0.679897</td>\n",
       "      <td>0.677821</td>\n",
       "      <td>16</td>\n",
       "      <td>True</td>\n",
       "      <td>False</td>\n",
       "      <td>(0.9, 0.999)</td>\n",
       "      <td>1.000000e-08</td>\n",
       "      <td>0.0010</td>\n",
       "      <td>0</td>\n",
       "    </tr>\n",
       "    <tr>\n",
       "      <th>2</th>\n",
       "      <td>1.197251</td>\n",
       "      <td>10:53:23 20-06-2020</td>\n",
       "      <td>0.716564</td>\n",
       "      <td>0.741159</td>\n",
       "      <td>0.785029</td>\n",
       "      <td>0.778212</td>\n",
       "      <td>16</td>\n",
       "      <td>True</td>\n",
       "      <td>False</td>\n",
       "      <td>(0.9, 0.999)</td>\n",
       "      <td>1.000000e-08</td>\n",
       "      <td>0.0010</td>\n",
       "      <td>0</td>\n",
       "    </tr>\n",
       "    <tr>\n",
       "      <th>3</th>\n",
       "      <td>1.805150</td>\n",
       "      <td>10:53:59 20-06-2020</td>\n",
       "      <td>0.570776</td>\n",
       "      <td>0.625771</td>\n",
       "      <td>0.830350</td>\n",
       "      <td>0.813690</td>\n",
       "      <td>16</td>\n",
       "      <td>True</td>\n",
       "      <td>False</td>\n",
       "      <td>(0.9, 0.999)</td>\n",
       "      <td>1.000000e-08</td>\n",
       "      <td>0.0010</td>\n",
       "      <td>0</td>\n",
       "    </tr>\n",
       "    <tr>\n",
       "      <th>4</th>\n",
       "      <td>2.417346</td>\n",
       "      <td>10:54:36 20-06-2020</td>\n",
       "      <td>0.488264</td>\n",
       "      <td>0.579202</td>\n",
       "      <td>0.851980</td>\n",
       "      <td>0.825899</td>\n",
       "      <td>16</td>\n",
       "      <td>True</td>\n",
       "      <td>False</td>\n",
       "      <td>(0.9, 0.999)</td>\n",
       "      <td>1.000000e-08</td>\n",
       "      <td>0.0010</td>\n",
       "      <td>0</td>\n",
       "    </tr>\n",
       "    <tr>\n",
       "      <th>5</th>\n",
       "      <td>3.019799</td>\n",
       "      <td>10:55:12 20-06-2020</td>\n",
       "      <td>0.432093</td>\n",
       "      <td>0.556340</td>\n",
       "      <td>0.866794</td>\n",
       "      <td>0.834039</td>\n",
       "      <td>16</td>\n",
       "      <td>True</td>\n",
       "      <td>False</td>\n",
       "      <td>(0.9, 0.999)</td>\n",
       "      <td>1.000000e-08</td>\n",
       "      <td>0.0010</td>\n",
       "      <td>0</td>\n",
       "    </tr>\n",
       "    <tr>\n",
       "      <th>6</th>\n",
       "      <td>3.582923</td>\n",
       "      <td>10:55:48 20-06-2020</td>\n",
       "      <td>0.402475</td>\n",
       "      <td>0.539058</td>\n",
       "      <td>0.877912</td>\n",
       "      <td>0.839836</td>\n",
       "      <td>64</td>\n",
       "      <td>True</td>\n",
       "      <td>False</td>\n",
       "      <td>(0.9, 0.999)</td>\n",
       "      <td>1.000000e-08</td>\n",
       "      <td>0.0004</td>\n",
       "      <td>0</td>\n",
       "    </tr>\n",
       "    <tr>\n",
       "      <th>7</th>\n",
       "      <td>4.161895</td>\n",
       "      <td>10:56:23 20-06-2020</td>\n",
       "      <td>0.392691</td>\n",
       "      <td>0.538397</td>\n",
       "      <td>0.880968</td>\n",
       "      <td>0.840699</td>\n",
       "      <td>64</td>\n",
       "      <td>True</td>\n",
       "      <td>False</td>\n",
       "      <td>(0.9, 0.999)</td>\n",
       "      <td>1.000000e-08</td>\n",
       "      <td>0.0004</td>\n",
       "      <td>0</td>\n",
       "    </tr>\n",
       "    <tr>\n",
       "      <th>8</th>\n",
       "      <td>4.729946</td>\n",
       "      <td>10:56:57 20-06-2020</td>\n",
       "      <td>0.385230</td>\n",
       "      <td>0.541059</td>\n",
       "      <td>0.882562</td>\n",
       "      <td>0.840987</td>\n",
       "      <td>64</td>\n",
       "      <td>True</td>\n",
       "      <td>False</td>\n",
       "      <td>(0.9, 0.999)</td>\n",
       "      <td>1.000000e-08</td>\n",
       "      <td>0.0004</td>\n",
       "      <td>0</td>\n",
       "    </tr>\n",
       "    <tr>\n",
       "      <th>9</th>\n",
       "      <td>5.298406</td>\n",
       "      <td>10:57:31 20-06-2020</td>\n",
       "      <td>0.378670</td>\n",
       "      <td>0.543614</td>\n",
       "      <td>0.884705</td>\n",
       "      <td>0.841686</td>\n",
       "      <td>64</td>\n",
       "      <td>True</td>\n",
       "      <td>False</td>\n",
       "      <td>(0.9, 0.999)</td>\n",
       "      <td>1.000000e-08</td>\n",
       "      <td>0.0004</td>\n",
       "      <td>0</td>\n",
       "    </tr>\n",
       "  </tbody>\n",
       "</table>\n",
       "</div>"
      ],
      "text/plain": [
       "   train_time            timestamp  train_loss  val_loss  train_score  \\\n",
       "1    0.595500  10:52:47 20-06-2020    1.091428  1.101946     0.679897   \n",
       "2    1.197251  10:53:23 20-06-2020    0.716564  0.741159     0.785029   \n",
       "3    1.805150  10:53:59 20-06-2020    0.570776  0.625771     0.830350   \n",
       "4    2.417346  10:54:36 20-06-2020    0.488264  0.579202     0.851980   \n",
       "5    3.019799  10:55:12 20-06-2020    0.432093  0.556340     0.866794   \n",
       "6    3.582923  10:55:48 20-06-2020    0.402475  0.539058     0.877912   \n",
       "7    4.161895  10:56:23 20-06-2020    0.392691  0.538397     0.880968   \n",
       "8    4.729946  10:56:57 20-06-2020    0.385230  0.541059     0.882562   \n",
       "9    5.298406  10:57:31 20-06-2020    0.378670  0.543614     0.884705   \n",
       "\n",
       "   val_score batch_size  best amsgrad         betas           eps      lr  \\\n",
       "1   0.677821         16  True   False  (0.9, 0.999)  1.000000e-08  0.0010   \n",
       "2   0.778212         16  True   False  (0.9, 0.999)  1.000000e-08  0.0010   \n",
       "3   0.813690         16  True   False  (0.9, 0.999)  1.000000e-08  0.0010   \n",
       "4   0.825899         16  True   False  (0.9, 0.999)  1.000000e-08  0.0010   \n",
       "5   0.834039         16  True   False  (0.9, 0.999)  1.000000e-08  0.0010   \n",
       "6   0.839836         64  True   False  (0.9, 0.999)  1.000000e-08  0.0004   \n",
       "7   0.840699         64  True   False  (0.9, 0.999)  1.000000e-08  0.0004   \n",
       "8   0.840987         64  True   False  (0.9, 0.999)  1.000000e-08  0.0004   \n",
       "9   0.841686         64  True   False  (0.9, 0.999)  1.000000e-08  0.0004   \n",
       "\n",
       "  weight_decay  \n",
       "1            0  \n",
       "2            0  \n",
       "3            0  \n",
       "4            0  \n",
       "5            0  \n",
       "6            0  \n",
       "7            0  \n",
       "8            0  \n",
       "9            0  "
      ]
     },
     "execution_count": 3,
     "metadata": {},
     "output_type": "execute_result"
    }
   ],
   "source": [
    "version = 'V1_final'\n",
    "checkpoint = ptu.load_model(version=version, models_path=models_path, epoch='best', seed=42)\n",
    "checkpoint.log"
   ]
  },
  {
   "cell_type": "code",
   "execution_count": 4,
   "metadata": {},
   "outputs": [
    {
     "name": "stderr",
     "output_type": "stream",
     "text": [
      "100%|██████████| 25325/25325 [00:11<00:00, 2236.36it/s]\n"
     ]
    },
    {
     "name": "stdout",
     "output_type": "stream",
     "text": [
      "chu_liu_edmonds_UAS: 0.8425077081192189\n",
      "0.8425077081192189\n"
     ]
    }
   ],
   "source": [
    "_, score, y_pred, _ = checkpoint.predict(test_dataset.dataset,\n",
    "                                                 batch_size=32,\n",
    "                                                 device=device,\n",
    "                                                 results=True,\n",
    "                                                 decision_func=chu.test_chu_liu_edmonds)\n",
    "test_dataset.insert_predictions(preds=y_pred, name='test_m1')\n",
    "print(f'chu_liu_edmonds_UAS: {score}')\n",
    "print(test_dataset.get_UAS())"
   ]
  },
  {
   "cell_type": "code",
   "execution_count": 5,
   "metadata": {},
   "outputs": [
    {
     "name": "stderr",
     "output_type": "stream",
     "text": [
      "100%|██████████| 24744/24744 [00:17<00:00, 1386.65it/s]\n"
     ]
    }
   ],
   "source": [
    "_, _, y_pred, _ = checkpoint.predict(comp_dataset.dataset,\n",
    "                                                 batch_size=32,\n",
    "                                                 device=device,\n",
    "                                                 results=True,\n",
    "                                                 decision_func=chu.test_chu_liu_edmonds)\n",
    "comp_dataset.insert_predictions(preds=y_pred, name='comp_m1')"
   ]
  },
  {
   "cell_type": "code",
   "execution_count": 6,
   "metadata": {},
   "outputs": [
    {
     "data": {
      "image/png": "[encoded data removed]",
      "text/plain": [
       "<Figure size 432x288 with 1 Axes>"
      ]
     },
     "metadata": {
      "needs_background": "light"
     },
     "output_type": "display_data"
    },
    {
     "data": {
      "image/png": "[encoded data removed]",
      "text/plain": [
       "<Figure size 432x288 with 1 Axes>"
      ]
     },
     "metadata": {
      "needs_background": "light"
     },
     "output_type": "display_data"
    },
    {
     "data": {
      "image/png": "[encoded data removed]",
      "text/plain": [
       "<Figure size 432x288 with 1 Axes>"
      ]
     },
     "metadata": {
      "needs_background": "light"
     },
     "output_type": "display_data"
    },
    {
     "data": {
      "image/png": "[encoded data removed]",
      "text/plain": [
       "<Figure size 432x288 with 1 Axes>"
      ]
     },
     "metadata": {
      "needs_background": "light"
     },
     "output_type": "display_data"
    }
   ],
   "source": [
    "checkpoint.plot_checkpoint(['val_score', 'train_score'], 'score', 'score', scale='linear', basey=10)\n",
    "checkpoint.plot_checkpoint(['val_loss', 'train_loss'], 'loss', 'loss', scale='linear', basey=10)\n",
    "checkpoint.plot_checkpoint(['batch_size'], 'batch_size', 'batch_size', scale='log', basey=2)\n",
    "checkpoint.plot_checkpoint(['lr'], 'lr', 'lr', scale='log', basey=10)"
   ]
  },
  {
   "cell_type": "code",
   "execution_count": null,
   "metadata": {},
   "outputs": [],
   "source": []
  },
  {
   "cell_type": "code",
   "execution_count": null,
   "metadata": {},
   "outputs": [],
   "source": []
  },
  {
   "cell_type": "code",
   "execution_count": null,
   "metadata": {},
   "outputs": [],
   "source": []
  },
  {
   "cell_type": "code",
   "execution_count": null,
   "metadata": {},
   "outputs": [],
   "source": []
  }
 ],
 "metadata": {
  "kernelspec": {
   "display_name": "nlp_hw2",
   "language": "python",
   "name": "nlp_hw2"
  },
  "language_info": {
   "codemirror_mode": {
    "name": "ipython",
    "version": 3
   },
   "file_extension": ".py",
   "mimetype": "text/x-python",
   "name": "python",
   "nbconvert_exporter": "python",
   "pygments_lexer": "ipython3",
   "version": "3.7.7"
  }
 },
 "nbformat": 4,
 "nbformat_minor": 4
}
